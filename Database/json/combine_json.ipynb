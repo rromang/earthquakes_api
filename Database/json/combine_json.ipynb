{
 "cells": [
  {
   "cell_type": "code",
   "execution_count": 1,
   "metadata": {},
   "outputs": [],
   "source": [
    "import json"
   ]
  },
  {
   "cell_type": "code",
   "execution_count": 2,
   "metadata": {},
   "outputs": [],
   "source": [
    "# Opening JSON files: the big json file with the collected earthquake info so far and the json file only \n",
    "# with the new data (already purged from duplicates from previous updates)\n",
    "with open('earthquake.json') as json_file:\n",
    "    data = json.load(json_file)\n",
    "    equake_dict = data\n",
    "\n",
    "with open('earthquake_update.json') as json_file:\n",
    "    data = json.load(json_file)\n",
    "    equake_update_dict = data"
   ]
  },
  {
   "cell_type": "code",
   "execution_count": 3,
   "metadata": {},
   "outputs": [],
   "source": [
    "#create new list combining both\n",
    "new_equake_list = equake_dict + equake_update_dict"
   ]
  },
  {
   "cell_type": "code",
   "execution_count": 4,
   "metadata": {},
   "outputs": [
    {
     "name": "stdout",
     "output_type": "stream",
     "text": [
      "The old json file length was: 64207;\n",
      "The updated json file was 9076;\n",
      "The combined json file is: 73283 and should be 73283.\n"
     ]
    }
   ],
   "source": [
    "#compare lengths\n",
    "print(f'The old json file length was: {len(equake_dict)};\\nThe updated json file was\\\n",
    " {len(equake_update_dict)};\\nThe combined json file is: {len(new_equake_list)} and should be\\\n",
    " {len(equake_dict)+len(equake_update_dict)}.')"
   ]
  },
  {
   "cell_type": "code",
   "execution_count": 5,
   "metadata": {},
   "outputs": [
    {
     "data": {
      "text/plain": [
       "{'mag': 1.3,\n",
       " 'latitude': 37.384,\n",
       " 'longitude': -117.1075,\n",
       " 'depth': 1.1,\n",
       " 'time': '2022-01-06T01:42:39.855Z',\n",
       " 'magType': 'ml',\n",
       " 'nst': 8.0,\n",
       " 'gap': 149.46,\n",
       " 'dmin': 0.875,\n",
       " 'rms': 0.2175,\n",
       " 'net': 'nn',\n",
       " 'id': 'nn00831163',\n",
       " 'updated': '2022-01-06T01:47:19.317Z'}"
      ]
     },
     "execution_count": 5,
     "metadata": {},
     "output_type": "execute_result"
    }
   ],
   "source": [
    "new_equake_list[0]"
   ]
  },
  {
   "cell_type": "code",
   "execution_count": 6,
   "metadata": {},
   "outputs": [],
   "source": [
    "import pandas as pd"
   ]
  },
  {
   "cell_type": "code",
   "execution_count": 7,
   "metadata": {},
   "outputs": [],
   "source": [
    "#create pandas to double check for duplicates\n",
    "df = pd.DataFrame(new_equake_list)"
   ]
  },
  {
   "cell_type": "code",
   "execution_count": 8,
   "metadata": {},
   "outputs": [
    {
     "name": "stdout",
     "output_type": "stream",
     "text": [
      "True\n"
     ]
    }
   ],
   "source": [
    "#check for duplicates\n",
    "boolean = df.duplicated(subset=['id']).any()\n",
    "print(boolean)"
   ]
  },
  {
   "cell_type": "code",
   "execution_count": 9,
   "metadata": {},
   "outputs": [
    {
     "name": "stdout",
     "output_type": "stream",
     "text": [
      "       mag  latitude  longitude   depth                      time magType  \\\n",
      "0      1.3   37.3840  -117.1075    1.10  2022-01-06T01:42:39.855Z      ml   \n",
      "1      1.4   38.1810  -117.8180    7.30  2022-01-06T01:31:33.698Z      ml   \n",
      "2      1.5   61.3407  -149.8852   30.00  2022-01-06T01:24:20.083Z      ml   \n",
      "3      2.1   62.8703  -150.7625  111.30  2022-01-06T01:15:15.851Z      ml   \n",
      "4      1.5   64.0145  -148.7657    1.90  2022-01-06T01:10:44.629Z      ml   \n",
      "...    ...       ...        ...     ...                       ...     ...   \n",
      "71629  4.6  -30.2315  -177.8443   39.37  2022-06-04T15:26:13.439Z      mb   \n",
      "71641  4.4  -33.6929  -178.7322   10.00  2022-06-04T14:02:17.078Z      mb   \n",
      "71644  4.6  -21.5817  -176.0672  144.23  2022-06-04T13:51:07.024Z      mb   \n",
      "71653  4.8  -56.2831   -27.0051   65.64  2022-06-04T13:04:18.850Z      mb   \n",
      "73120  4.0   22.2434   -70.3805   10.00  2022-05-30T10:46:28.887Z      mb   \n",
      "\n",
      "        nst     gap   dmin     rms net           id                   updated  \n",
      "0       8.0  149.46  0.875  0.2175  nn   nn00831163  2022-01-06T01:47:19.317Z  \n",
      "1      11.0  154.64  0.119  0.1017  nn   nn00831161  2022-01-06T01:47:40.245Z  \n",
      "2       NaN     NaN    NaN  0.7500  ak  ak0229xypaw  2022-01-06T01:29:22.015Z  \n",
      "3       NaN     NaN    NaN  0.3200  ak  ak0229xwriz  2022-01-06T01:29:21.875Z  \n",
      "4       NaN     NaN    NaN  0.7200  ak  ak0229xvr66  2022-01-06T01:15:56.292Z  \n",
      "...     ...     ...    ...     ...  ..          ...                       ...  \n",
      "71629   NaN  137.00  0.968  1.2200  us   us7000hg7b  2022-06-27T18:33:42.040Z  \n",
      "71641   NaN  185.00  4.552  0.8700  us   us7000hg78  2022-06-27T18:24:02.040Z  \n",
      "71644   NaN   88.00  8.653  0.9700  us   us7000hg79  2022-06-27T18:17:01.040Z  \n",
      "71653   NaN   92.00  5.777  0.6200  us   us7000hg76  2022-06-27T18:11:17.040Z  \n",
      "73120   NaN  123.00  1.009  0.8800  us   us7000hdkf  2022-06-27T11:50:25.040Z  \n",
      "\n",
      "[64889 rows x 13 columns]\n"
     ]
    }
   ],
   "source": [
    "#drop duplicates\n",
    "df.drop_duplicates(subset=['id'], inplace=True)\n",
    "print(df)"
   ]
  },
  {
   "cell_type": "code",
   "execution_count": 10,
   "metadata": {},
   "outputs": [
    {
     "data": {
      "text/plain": [
       "64889"
      ]
     },
     "execution_count": 10,
     "metadata": {},
     "output_type": "execute_result"
    }
   ],
   "source": [
    "#change to list of dictionaries\n",
    "new_equake_list = df.to_dict('records')\n",
    "len(new_equake_list)"
   ]
  },
  {
   "cell_type": "code",
   "execution_count": 11,
   "metadata": {},
   "outputs": [],
   "source": [
    "#write to json file\n",
    "out_file = open(\"earthquake.json\", \"w\")\n",
    "json.dump(new_equake_list, out_file, indent = 6) \n",
    "out_file.close() "
   ]
  }
 ],
 "metadata": {
  "kernelspec": {
   "display_name": "Python 3.9.12 ('equake_env')",
   "language": "python",
   "name": "python3"
  },
  "language_info": {
   "codemirror_mode": {
    "name": "ipython",
    "version": 3
   },
   "file_extension": ".py",
   "mimetype": "text/x-python",
   "name": "python",
   "nbconvert_exporter": "python",
   "pygments_lexer": "ipython3",
   "version": "3.9.12"
  },
  "orig_nbformat": 4,
  "vscode": {
   "interpreter": {
    "hash": "44bf637a60f8aea915a9ffaff3c5af9bf72e4462be04670e777c62c71dc28425"
   }
  }
 },
 "nbformat": 4,
 "nbformat_minor": 2
}
