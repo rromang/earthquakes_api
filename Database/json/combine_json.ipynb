{
 "cells": [
  {
   "cell_type": "code",
   "execution_count": 1,
   "metadata": {},
   "outputs": [],
   "source": [
    "import json"
   ]
  },
  {
   "cell_type": "code",
   "execution_count": 2,
   "metadata": {},
   "outputs": [],
   "source": [
    "# Opening JSON files: the big json file with the collected earthquake info so far and the json file only \n",
    "# with the new data (already purged from duplicates from previous updates)\n",
    "with open('earthquake.json') as json_file:\n",
    "    data = json.load(json_file)\n",
    "    equake_dict = data\n",
    "\n",
    "with open('earthquake_update.json') as json_file:\n",
    "    data = json.load(json_file)\n",
    "    equake_update_dict = data"
   ]
  },
  {
   "cell_type": "code",
   "execution_count": 6,
   "metadata": {},
   "outputs": [],
   "source": [
    "#create new list combining both\n",
    "new_equake_list = equake_dict + equake_update_dict"
   ]
  },
  {
   "cell_type": "code",
   "execution_count": 11,
   "metadata": {},
   "outputs": [
    {
     "name": "stdout",
     "output_type": "stream",
     "text": [
      "The old json file length was: 64207;\n",
      "The updated json file was 8997;\n",
      "The combined json file is: 73204 and should be 73204.\n"
     ]
    }
   ],
   "source": [
    "#compare lengths\n",
    "print(f'The old json file length was: {len(equake_dict)};\\nThe updated json file was\\\n",
    " {len(equake_update_dict)};\\nThe combined json file is: {len(new_equake_list)} and should be\\\n",
    " {len(equake_dict)+len(equake_update_dict)}.')"
   ]
  },
  {
   "cell_type": "code",
   "execution_count": 12,
   "metadata": {},
   "outputs": [
    {
     "data": {
      "text/plain": [
       "{'mag': 1.3,\n",
       " 'latitude': 37.384,\n",
       " 'longitude': -117.1075,\n",
       " 'depth': 1.1,\n",
       " 'time': '2022-01-06T01:42:39.855Z',\n",
       " 'magType': 'ml',\n",
       " 'nst': 8.0,\n",
       " 'gap': 149.46,\n",
       " 'dmin': 0.875,\n",
       " 'rms': 0.2175,\n",
       " 'net': 'nn',\n",
       " 'id': 'nn00831163',\n",
       " 'updated': '2022-01-06T01:47:19.317Z'}"
      ]
     },
     "execution_count": 12,
     "metadata": {},
     "output_type": "execute_result"
    }
   ],
   "source": [
    "new_equake_list[0]"
   ]
  },
  {
   "cell_type": "code",
   "execution_count": 13,
   "metadata": {},
   "outputs": [],
   "source": [
    "import pandas as pd"
   ]
  },
  {
   "cell_type": "code",
   "execution_count": 14,
   "metadata": {},
   "outputs": [],
   "source": [
    "#create pandas to double check for duplicates\n",
    "df = pd.DataFrame(new_equake_list)"
   ]
  },
  {
   "cell_type": "code",
   "execution_count": 15,
   "metadata": {},
   "outputs": [
    {
     "name": "stdout",
     "output_type": "stream",
     "text": [
      "True\n"
     ]
    }
   ],
   "source": [
    "#check for duplicates\n",
    "boolean = df.duplicated(subset=['id']).any()\n",
    "print(boolean)"
   ]
  },
  {
   "cell_type": "code",
   "execution_count": 16,
   "metadata": {},
   "outputs": [
    {
     "name": "stdout",
     "output_type": "stream",
     "text": [
      "       mag  latitude  longitude   depth                      time magType  \\\n",
      "0      1.3   37.3840  -117.1075    1.10  2022-01-06T01:42:39.855Z      ml   \n",
      "1      1.4   38.1810  -117.8180    7.30  2022-01-06T01:31:33.698Z      ml   \n",
      "2      1.5   61.3407  -149.8852   30.00  2022-01-06T01:24:20.083Z      ml   \n",
      "3      2.1   62.8703  -150.7625  111.30  2022-01-06T01:15:15.851Z      ml   \n",
      "4      1.5   64.0145  -148.7657    1.90  2022-01-06T01:10:44.629Z      ml   \n",
      "...    ...       ...        ...     ...                       ...     ...   \n",
      "64202  4.1  -28.2245  -177.0944   41.17  2022-06-21T13:47:59.490Z      mb   \n",
      "64203  4.2  -15.0919  -177.1751  363.17  2022-06-21T13:37:09.523Z      mb   \n",
      "64204  4.2   27.8278   142.4459   25.50  2022-06-21T13:27:10.754Z      mb   \n",
      "64205  4.2  -17.8954  -178.3020  599.16  2022-06-20T15:59:38.509Z      mb   \n",
      "64206  4.4  -10.1190   161.4266   99.55  2022-06-20T15:07:33.761Z      mb   \n",
      "\n",
      "        nst     gap   dmin     rms net           id                   updated  \n",
      "0       8.0  149.46  0.875  0.2175  nn   nn00831163  2022-01-06T01:47:19.317Z  \n",
      "1      11.0  154.64  0.119  0.1017  nn   nn00831161  2022-01-06T01:47:40.245Z  \n",
      "2       NaN     NaN    NaN  0.7500  ak  ak0229xypaw  2022-01-06T01:29:22.015Z  \n",
      "3       NaN     NaN    NaN  0.3200  ak  ak0229xwriz  2022-01-06T01:29:21.875Z  \n",
      "4       NaN     NaN    NaN  0.7200  ak  ak0229xvr66  2022-01-06T01:15:56.292Z  \n",
      "...     ...     ...    ...     ...  ..          ...                       ...  \n",
      "64202   NaN  191.00  1.262  0.1600  us   us7000hjyy  2022-06-26T20:02:22.040Z  \n",
      "64203   NaN  119.00  1.202  0.2300  us   us7000hjz2  2022-06-26T19:50:25.040Z  \n",
      "64204   NaN  146.00  7.741  0.3600  us   us7000hjz5  2022-06-26T19:36:29.040Z  \n",
      "64205   NaN  151.00  3.475  0.2600  us   us7000hjxz  2022-06-26T19:11:52.040Z  \n",
      "64206   NaN   78.00  1.607  0.2900  us   us7000hjxq  2022-06-26T18:35:21.040Z  \n",
      "\n",
      "[64207 rows x 13 columns]\n"
     ]
    }
   ],
   "source": [
    "#drop duplicates\n",
    "df.drop_duplicates(subset=['id'], inplace=True)\n",
    "print(df)"
   ]
  },
  {
   "cell_type": "code",
   "execution_count": 22,
   "metadata": {},
   "outputs": [
    {
     "data": {
      "text/plain": [
       "64207"
      ]
     },
     "execution_count": 22,
     "metadata": {},
     "output_type": "execute_result"
    }
   ],
   "source": [
    "#change to list of dictionaries\n",
    "new_equake_list = df.to_dict('records')\n",
    "len(new_equake_list)"
   ]
  },
  {
   "cell_type": "code",
   "execution_count": 23,
   "metadata": {},
   "outputs": [],
   "source": [
    "#write to json file\n",
    "out_file = open(\"earthquake.json\", \"w\")\n",
    "json.dump(new_equake_list, out_file, indent = 6) \n",
    "out_file.close()  "
   ]
  }
 ],
 "metadata": {
  "kernelspec": {
   "display_name": "Python 3.9.12 ('equake_env')",
   "language": "python",
   "name": "python3"
  },
  "language_info": {
   "codemirror_mode": {
    "name": "ipython",
    "version": 3
   },
   "file_extension": ".py",
   "mimetype": "text/x-python",
   "name": "python",
   "nbconvert_exporter": "python",
   "pygments_lexer": "ipython3",
   "version": "3.9.12"
  },
  "orig_nbformat": 4,
  "vscode": {
   "interpreter": {
    "hash": "44bf637a60f8aea915a9ffaff3c5af9bf72e4462be04670e777c62c71dc28425"
   }
  }
 },
 "nbformat": 4,
 "nbformat_minor": 2
}
