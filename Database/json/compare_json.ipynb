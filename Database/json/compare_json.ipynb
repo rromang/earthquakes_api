{
 "cells": [
  {
   "cell_type": "code",
   "execution_count": 49,
   "metadata": {},
   "outputs": [],
   "source": [
    "import json"
   ]
  },
  {
   "cell_type": "code",
   "execution_count": 50,
   "metadata": {},
   "outputs": [],
   "source": [
    "# Opening JSON files. earthquake is previous update portion and the new update\n",
    "# the one newly created from monthly update to database\n",
    "with open('earthquake_update.json') as json_file:\n",
    "    data = json.load(json_file)\n",
    "    equake_dict = data\n",
    "\n",
    "with open('new_earthquake_update.json') as json_file:\n",
    "    data = json.load(json_file)\n",
    "    equake_update_dict = data\n",
    "\n",
    "# print(eaquake_update_dict)"
   ]
  },
  {
   "cell_type": "code",
   "execution_count": 51,
   "metadata": {},
   "outputs": [],
   "source": [
    "#sort dictionaries\n",
    "sorted_equake_dict = sorted(equake_dict, key = lambda i: i['id'],reverse=True)\n",
    "sorted_equake_update_dict = sorted(equake_update_dict, key = lambda i: i['id'],reverse=True)"
   ]
  },
  {
   "cell_type": "code",
   "execution_count": 52,
   "metadata": {},
   "outputs": [
    {
     "data": {
      "text/plain": [
       "True"
      ]
     },
     "execution_count": 52,
     "metadata": {},
     "output_type": "execute_result"
    }
   ],
   "source": [
    "#check if they are different\n",
    "sorted_equake_dict == sorted_equake_update_dict"
   ]
  },
  {
   "cell_type": "code",
   "execution_count": 53,
   "metadata": {},
   "outputs": [
    {
     "name": "stdout",
     "output_type": "stream",
     "text": [
      "{'mag': 0.37, 'latitude': 45.3661666666667, 'longitude': -121.705666666667, 'depth': 3.35, 'time': '2022-06-24T07:56:37.880Z', 'magType': 'ml', 'nst': 6.0, 'gap': 110.0, 'dmin': 0.007594, 'rms': 0.09, 'net': 'uw', 'id': 'uw61854531', 'updated': '2022-06-24T17:45:10.880Z'}\n"
     ]
    }
   ],
   "source": [
    "print(sorted_equake_update_dict[0])"
   ]
  },
  {
   "cell_type": "code",
   "execution_count": 54,
   "metadata": {},
   "outputs": [
    {
     "name": "stdout",
     "output_type": "stream",
     "text": [
      "8997\n"
     ]
    }
   ],
   "source": [
    "#create list of ids in new earthquake data\n",
    "equake_update_dict_ids = []\n",
    "for d in sorted_equake_update_dict:\n",
    "    for key, value in d.items():\n",
    "        if key == \"id\":\n",
    "            equake_update_dict_ids.append(value)\n",
    "\n",
    "print(len(equake_update_dict_ids))"
   ]
  },
  {
   "cell_type": "code",
   "execution_count": 56,
   "metadata": {},
   "outputs": [
    {
     "data": {
      "text/plain": [
       "'uw61854531'"
      ]
     },
     "execution_count": 56,
     "metadata": {},
     "output_type": "execute_result"
    }
   ],
   "source": [
    "sorted_equake_dict[0]['id']"
   ]
  },
  {
   "cell_type": "code",
   "execution_count": 58,
   "metadata": {},
   "outputs": [
    {
     "name": "stdout",
     "output_type": "stream",
     "text": [
      "0\n"
     ]
    }
   ],
   "source": [
    "#create new list of dict tp append those that are not in the old update json file\n",
    "new_dict=[]\n",
    "for i in range(len(equake_update_dict_ids)):\n",
    "    for k in range(len(sorted_equake_dict)):\n",
    "        id_val = sorted_equake_dict[k]['id']\n",
    "        if id_val == equake_update_dict_ids[i]:\n",
    "            next\n",
    "        else:\n",
    "            new_dict.append(sorted_equake_dict[k])\n",
    "        break\n",
    "print(len(new_dict))"
   ]
  },
  {
   "cell_type": "code",
   "execution_count": 59,
   "metadata": {},
   "outputs": [
    {
     "ename": "IndexError",
     "evalue": "list index out of range",
     "output_type": "error",
     "traceback": [
      "\u001b[0;31m---------------------------------------------------------------------------\u001b[0m",
      "\u001b[0;31mIndexError\u001b[0m                                Traceback (most recent call last)",
      "\u001b[1;32m/Users/rosaicelaroman/Desktop/portfolio_work/earthquakes_api/Database/json/compare_json.ipynb Cell 11\u001b[0m in \u001b[0;36m<cell line: 1>\u001b[0;34m()\u001b[0m\n\u001b[0;32m----> <a href='vscode-notebook-cell:/Users/rosaicelaroman/Desktop/portfolio_work/earthquakes_api/Database/json/compare_json.ipynb#ch0000018?line=0'>1</a>\u001b[0m \u001b[39mprint\u001b[39m(new_dict[\u001b[39m0\u001b[39;49m][\u001b[39m'\u001b[39m\u001b[39mid\u001b[39m\u001b[39m'\u001b[39m])\n",
      "\u001b[0;31mIndexError\u001b[0m: list index out of range"
     ]
    }
   ],
   "source": [
    "print(new_dict[0]['id'])"
   ]
  },
  {
   "cell_type": "code",
   "execution_count": null,
   "metadata": {},
   "outputs": [
    {
     "data": {
      "text/plain": [
       "{'mag': 2.64,\n",
       " 'latitude': 47.834,\n",
       " 'longitude': -122.933166666667,\n",
       " 'depth': 52.2,\n",
       " 'time': '2022-06-24T07:12:13.420Z',\n",
       " 'magType': 'ml',\n",
       " 'nst': 73.0,\n",
       " 'gap': 27.0,\n",
       " 'dmin': 0.0255,\n",
       " 'rms': 0.23,\n",
       " 'net': 'uw',\n",
       " 'id': 'uw61854526',\n",
       " 'updated': '2022-06-25T20:38:08.632Z'}"
      ]
     },
     "execution_count": 33,
     "metadata": {},
     "output_type": "execute_result"
    }
   ],
   "source": [
    "new_dict[0]"
   ]
  },
  {
   "cell_type": "code",
   "execution_count": null,
   "metadata": {},
   "outputs": [
    {
     "data": {
      "text/plain": [
       "8998"
      ]
     },
     "execution_count": 45,
     "metadata": {},
     "output_type": "execute_result"
    }
   ],
   "source": [
    "len(sorted_equake_update_dict)"
   ]
  },
  {
   "cell_type": "code",
   "execution_count": null,
   "metadata": {},
   "outputs": [],
   "source": [
    "out_file = open(\"earthquake_update.json\", \"w\")\n",
    "json.dump(new_dict, out_file, indent = 6) \n",
    "out_file.close()  "
   ]
  }
 ],
 "metadata": {
  "kernelspec": {
   "display_name": "Python 3.9.12 ('equake_env')",
   "language": "python",
   "name": "python3"
  },
  "language_info": {
   "codemirror_mode": {
    "name": "ipython",
    "version": 3
   },
   "file_extension": ".py",
   "mimetype": "text/x-python",
   "name": "python",
   "nbconvert_exporter": "python",
   "pygments_lexer": "ipython3",
   "version": "3.9.12"
  },
  "orig_nbformat": 4,
  "vscode": {
   "interpreter": {
    "hash": "44bf637a60f8aea915a9ffaff3c5af9bf72e4462be04670e777c62c71dc28425"
   }
  }
 },
 "nbformat": 4,
 "nbformat_minor": 2
}
