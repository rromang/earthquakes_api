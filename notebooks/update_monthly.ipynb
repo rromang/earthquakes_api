{
 "cells": [
  {
   "cell_type": "code",
   "execution_count": 15,
   "metadata": {},
   "outputs": [],
   "source": [
    "#env: equake_env (Python 3.9)\n",
    "import pandas as pd\n",
    "import sqlite3\n",
    "import datetime\n",
    "import sqlalchemy\n",
    "from sqlalchemy.ext.automap import automap_base\n",
    "from sqlalchemy.orm import Session\n",
    "from sqlalchemy import create_engine, inspect, func\n",
    "\n",
    "from sqlalchemy import create_engine"
   ]
  },
  {
   "cell_type": "code",
   "execution_count": 16,
   "metadata": {},
   "outputs": [
    {
     "name": "stdout",
     "output_type": "stream",
     "text": [
      "Connected to database...\n"
     ]
    }
   ],
   "source": [
    "#connection to a PostgreSQL local database\n",
    "# ===========================================\n",
    "\n",
    "# user_name_var = input('What is the username of your database? ')\n",
    "host_var = input('What is the host address of your database?')\n",
    "pw = input(\"Enter the database password: \")\n",
    "# db_name = input(\"Enter the name of the database: \")\n",
    "\n",
    "string_output = \"postgresql://postgres\"+':'+pw+'@'+host_var+\":5432\"+'/earthquake_db'\n",
    "engine = create_engine(string_output)\n",
    "connection = engine.connect()\n",
    "print(\"Connected to database...\")"
   ]
  },
  {
   "cell_type": "code",
   "execution_count": 17,
   "metadata": {},
   "outputs": [],
   "source": [
    "#create and connect to a sqlite3 db\n",
    "path = \"../Database/db/earthquake_db\"\n",
    "conn = sqlite3.connect(path)"
   ]
  },
  {
   "cell_type": "markdown",
   "metadata": {},
   "source": [
    "Adding 1 month of data"
   ]
  },
  {
   "cell_type": "code",
   "execution_count": 18,
   "metadata": {},
   "outputs": [
    {
     "data": {
      "text/html": [
       "<div>\n",
       "<style scoped>\n",
       "    .dataframe tbody tr th:only-of-type {\n",
       "        vertical-align: middle;\n",
       "    }\n",
       "\n",
       "    .dataframe tbody tr th {\n",
       "        vertical-align: top;\n",
       "    }\n",
       "\n",
       "    .dataframe thead th {\n",
       "        text-align: right;\n",
       "    }\n",
       "</style>\n",
       "<table border=\"1\" class=\"dataframe\">\n",
       "  <thead>\n",
       "    <tr style=\"text-align: right;\">\n",
       "      <th></th>\n",
       "      <th>time</th>\n",
       "      <th>latitude</th>\n",
       "      <th>longitude</th>\n",
       "      <th>depth</th>\n",
       "      <th>mag</th>\n",
       "      <th>magType</th>\n",
       "      <th>nst</th>\n",
       "      <th>gap</th>\n",
       "      <th>dmin</th>\n",
       "      <th>rms</th>\n",
       "      <th>...</th>\n",
       "      <th>updated</th>\n",
       "      <th>place</th>\n",
       "      <th>type</th>\n",
       "      <th>horizontalError</th>\n",
       "      <th>depthError</th>\n",
       "      <th>magError</th>\n",
       "      <th>magNst</th>\n",
       "      <th>status</th>\n",
       "      <th>locationSource</th>\n",
       "      <th>magSource</th>\n",
       "    </tr>\n",
       "  </thead>\n",
       "  <tbody>\n",
       "    <tr>\n",
       "      <th>0</th>\n",
       "      <td>2022-06-27T22:27:26.030Z</td>\n",
       "      <td>33.230333</td>\n",
       "      <td>-116.726000</td>\n",
       "      <td>11.43</td>\n",
       "      <td>0.86</td>\n",
       "      <td>ml</td>\n",
       "      <td>33.0</td>\n",
       "      <td>54.0</td>\n",
       "      <td>0.02803</td>\n",
       "      <td>0.15</td>\n",
       "      <td>...</td>\n",
       "      <td>2022-06-27T22:31:01.524Z</td>\n",
       "      <td>4km ESE of Lake Henshaw, CA</td>\n",
       "      <td>earthquake</td>\n",
       "      <td>0.26</td>\n",
       "      <td>0.61</td>\n",
       "      <td>0.156</td>\n",
       "      <td>22.0</td>\n",
       "      <td>automatic</td>\n",
       "      <td>ci</td>\n",
       "      <td>ci</td>\n",
       "    </tr>\n",
       "    <tr>\n",
       "      <th>1</th>\n",
       "      <td>2022-06-27T22:25:42.650Z</td>\n",
       "      <td>39.434500</td>\n",
       "      <td>-110.322333</td>\n",
       "      <td>-0.85</td>\n",
       "      <td>1.40</td>\n",
       "      <td>md</td>\n",
       "      <td>7.0</td>\n",
       "      <td>176.0</td>\n",
       "      <td>0.01061</td>\n",
       "      <td>0.04</td>\n",
       "      <td>...</td>\n",
       "      <td>2022-06-27T22:38:14.130Z</td>\n",
       "      <td>14 km SSE of Sunnyside, Utah</td>\n",
       "      <td>earthquake</td>\n",
       "      <td>0.90</td>\n",
       "      <td>0.25</td>\n",
       "      <td>0.193</td>\n",
       "      <td>6.0</td>\n",
       "      <td>reviewed</td>\n",
       "      <td>uu</td>\n",
       "      <td>uu</td>\n",
       "    </tr>\n",
       "    <tr>\n",
       "      <th>2</th>\n",
       "      <td>2022-06-27T22:24:18.380Z</td>\n",
       "      <td>33.232000</td>\n",
       "      <td>-116.728167</td>\n",
       "      <td>11.10</td>\n",
       "      <td>0.54</td>\n",
       "      <td>ml</td>\n",
       "      <td>16.0</td>\n",
       "      <td>41.0</td>\n",
       "      <td>0.02595</td>\n",
       "      <td>0.17</td>\n",
       "      <td>...</td>\n",
       "      <td>2022-06-27T22:27:45.505Z</td>\n",
       "      <td>3km ESE of Lake Henshaw, CA</td>\n",
       "      <td>earthquake</td>\n",
       "      <td>0.45</td>\n",
       "      <td>0.73</td>\n",
       "      <td>0.208</td>\n",
       "      <td>11.0</td>\n",
       "      <td>automatic</td>\n",
       "      <td>ci</td>\n",
       "      <td>ci</td>\n",
       "    </tr>\n",
       "    <tr>\n",
       "      <th>3</th>\n",
       "      <td>2022-06-27T22:21:10.484Z</td>\n",
       "      <td>59.060800</td>\n",
       "      <td>-152.825400</td>\n",
       "      <td>69.40</td>\n",
       "      <td>1.40</td>\n",
       "      <td>ml</td>\n",
       "      <td>NaN</td>\n",
       "      <td>NaN</td>\n",
       "      <td>NaN</td>\n",
       "      <td>0.60</td>\n",
       "      <td>...</td>\n",
       "      <td>2022-06-27T22:23:46.125Z</td>\n",
       "      <td>61 km WSW of Nanwalek, Alaska</td>\n",
       "      <td>earthquake</td>\n",
       "      <td>NaN</td>\n",
       "      <td>0.70</td>\n",
       "      <td>NaN</td>\n",
       "      <td>NaN</td>\n",
       "      <td>automatic</td>\n",
       "      <td>ak</td>\n",
       "      <td>ak</td>\n",
       "    </tr>\n",
       "    <tr>\n",
       "      <th>4</th>\n",
       "      <td>2022-06-27T22:19:48.820Z</td>\n",
       "      <td>38.816334</td>\n",
       "      <td>-122.762169</td>\n",
       "      <td>1.92</td>\n",
       "      <td>0.66</td>\n",
       "      <td>md</td>\n",
       "      <td>12.0</td>\n",
       "      <td>113.0</td>\n",
       "      <td>0.01479</td>\n",
       "      <td>0.02</td>\n",
       "      <td>...</td>\n",
       "      <td>2022-06-27T22:28:10.958Z</td>\n",
       "      <td>3km W of Cobb, CA</td>\n",
       "      <td>earthquake</td>\n",
       "      <td>0.42</td>\n",
       "      <td>0.74</td>\n",
       "      <td>0.150</td>\n",
       "      <td>2.0</td>\n",
       "      <td>automatic</td>\n",
       "      <td>nc</td>\n",
       "      <td>nc</td>\n",
       "    </tr>\n",
       "    <tr>\n",
       "      <th>...</th>\n",
       "      <td>...</td>\n",
       "      <td>...</td>\n",
       "      <td>...</td>\n",
       "      <td>...</td>\n",
       "      <td>...</td>\n",
       "      <td>...</td>\n",
       "      <td>...</td>\n",
       "      <td>...</td>\n",
       "      <td>...</td>\n",
       "      <td>...</td>\n",
       "      <td>...</td>\n",
       "      <td>...</td>\n",
       "      <td>...</td>\n",
       "      <td>...</td>\n",
       "      <td>...</td>\n",
       "      <td>...</td>\n",
       "      <td>...</td>\n",
       "      <td>...</td>\n",
       "      <td>...</td>\n",
       "      <td>...</td>\n",
       "      <td>...</td>\n",
       "    </tr>\n",
       "    <tr>\n",
       "      <th>8993</th>\n",
       "      <td>2022-05-28T22:58:29.229Z</td>\n",
       "      <td>61.038300</td>\n",
       "      <td>-148.479600</td>\n",
       "      <td>24.20</td>\n",
       "      <td>1.40</td>\n",
       "      <td>ml</td>\n",
       "      <td>NaN</td>\n",
       "      <td>NaN</td>\n",
       "      <td>NaN</td>\n",
       "      <td>0.82</td>\n",
       "      <td>...</td>\n",
       "      <td>2022-05-28T23:11:56.523Z</td>\n",
       "      <td>31 km NNE of Whittier, Alaska</td>\n",
       "      <td>earthquake</td>\n",
       "      <td>NaN</td>\n",
       "      <td>0.30</td>\n",
       "      <td>NaN</td>\n",
       "      <td>NaN</td>\n",
       "      <td>automatic</td>\n",
       "      <td>ak</td>\n",
       "      <td>ak</td>\n",
       "    </tr>\n",
       "    <tr>\n",
       "      <th>8994</th>\n",
       "      <td>2022-05-28T22:44:31.860Z</td>\n",
       "      <td>37.602500</td>\n",
       "      <td>-118.818500</td>\n",
       "      <td>3.47</td>\n",
       "      <td>1.22</td>\n",
       "      <td>md</td>\n",
       "      <td>16.0</td>\n",
       "      <td>94.0</td>\n",
       "      <td>0.01503</td>\n",
       "      <td>0.03</td>\n",
       "      <td>...</td>\n",
       "      <td>2022-05-29T22:09:10.832Z</td>\n",
       "      <td>13km WNW of Toms Place, CA</td>\n",
       "      <td>earthquake</td>\n",
       "      <td>0.37</td>\n",
       "      <td>0.31</td>\n",
       "      <td>0.097</td>\n",
       "      <td>14.0</td>\n",
       "      <td>reviewed</td>\n",
       "      <td>nc</td>\n",
       "      <td>nc</td>\n",
       "    </tr>\n",
       "    <tr>\n",
       "      <th>8995</th>\n",
       "      <td>2022-05-28T22:41:00.294Z</td>\n",
       "      <td>56.730700</td>\n",
       "      <td>-156.474800</td>\n",
       "      <td>0.00</td>\n",
       "      <td>2.10</td>\n",
       "      <td>ml</td>\n",
       "      <td>NaN</td>\n",
       "      <td>NaN</td>\n",
       "      <td>NaN</td>\n",
       "      <td>1.11</td>\n",
       "      <td>...</td>\n",
       "      <td>2022-06-12T03:11:38.040Z</td>\n",
       "      <td>103 km SSE of Ugashik, Alaska</td>\n",
       "      <td>earthquake</td>\n",
       "      <td>NaN</td>\n",
       "      <td>0.60</td>\n",
       "      <td>NaN</td>\n",
       "      <td>NaN</td>\n",
       "      <td>automatic</td>\n",
       "      <td>ak</td>\n",
       "      <td>ak</td>\n",
       "    </tr>\n",
       "    <tr>\n",
       "      <th>8996</th>\n",
       "      <td>2022-05-28T22:40:51.511Z</td>\n",
       "      <td>60.886100</td>\n",
       "      <td>-151.031200</td>\n",
       "      <td>24.60</td>\n",
       "      <td>1.00</td>\n",
       "      <td>ml</td>\n",
       "      <td>NaN</td>\n",
       "      <td>NaN</td>\n",
       "      <td>NaN</td>\n",
       "      <td>0.54</td>\n",
       "      <td>...</td>\n",
       "      <td>2022-05-28T22:52:29.667Z</td>\n",
       "      <td>19 km WSW of Point Possession, Alaska</td>\n",
       "      <td>earthquake</td>\n",
       "      <td>NaN</td>\n",
       "      <td>0.30</td>\n",
       "      <td>NaN</td>\n",
       "      <td>NaN</td>\n",
       "      <td>automatic</td>\n",
       "      <td>ak</td>\n",
       "      <td>ak</td>\n",
       "    </tr>\n",
       "    <tr>\n",
       "      <th>8997</th>\n",
       "      <td>2022-05-28T22:39:04.710Z</td>\n",
       "      <td>19.372667</td>\n",
       "      <td>-155.033661</td>\n",
       "      <td>1.19</td>\n",
       "      <td>1.72</td>\n",
       "      <td>ml</td>\n",
       "      <td>26.0</td>\n",
       "      <td>185.0</td>\n",
       "      <td>NaN</td>\n",
       "      <td>0.17</td>\n",
       "      <td>...</td>\n",
       "      <td>2022-05-28T22:44:36.050Z</td>\n",
       "      <td>14 km SE of Fern Forest, Hawaii</td>\n",
       "      <td>earthquake</td>\n",
       "      <td>0.58</td>\n",
       "      <td>0.42</td>\n",
       "      <td>3.560</td>\n",
       "      <td>6.0</td>\n",
       "      <td>automatic</td>\n",
       "      <td>hv</td>\n",
       "      <td>hv</td>\n",
       "    </tr>\n",
       "  </tbody>\n",
       "</table>\n",
       "<p>8998 rows × 22 columns</p>\n",
       "</div>"
      ],
      "text/plain": [
       "                          time   latitude   longitude  depth   mag magType  \\\n",
       "0     2022-06-27T22:27:26.030Z  33.230333 -116.726000  11.43  0.86      ml   \n",
       "1     2022-06-27T22:25:42.650Z  39.434500 -110.322333  -0.85  1.40      md   \n",
       "2     2022-06-27T22:24:18.380Z  33.232000 -116.728167  11.10  0.54      ml   \n",
       "3     2022-06-27T22:21:10.484Z  59.060800 -152.825400  69.40  1.40      ml   \n",
       "4     2022-06-27T22:19:48.820Z  38.816334 -122.762169   1.92  0.66      md   \n",
       "...                        ...        ...         ...    ...   ...     ...   \n",
       "8993  2022-05-28T22:58:29.229Z  61.038300 -148.479600  24.20  1.40      ml   \n",
       "8994  2022-05-28T22:44:31.860Z  37.602500 -118.818500   3.47  1.22      md   \n",
       "8995  2022-05-28T22:41:00.294Z  56.730700 -156.474800   0.00  2.10      ml   \n",
       "8996  2022-05-28T22:40:51.511Z  60.886100 -151.031200  24.60  1.00      ml   \n",
       "8997  2022-05-28T22:39:04.710Z  19.372667 -155.033661   1.19  1.72      ml   \n",
       "\n",
       "       nst    gap     dmin   rms  ...                   updated  \\\n",
       "0     33.0   54.0  0.02803  0.15  ...  2022-06-27T22:31:01.524Z   \n",
       "1      7.0  176.0  0.01061  0.04  ...  2022-06-27T22:38:14.130Z   \n",
       "2     16.0   41.0  0.02595  0.17  ...  2022-06-27T22:27:45.505Z   \n",
       "3      NaN    NaN      NaN  0.60  ...  2022-06-27T22:23:46.125Z   \n",
       "4     12.0  113.0  0.01479  0.02  ...  2022-06-27T22:28:10.958Z   \n",
       "...    ...    ...      ...   ...  ...                       ...   \n",
       "8993   NaN    NaN      NaN  0.82  ...  2022-05-28T23:11:56.523Z   \n",
       "8994  16.0   94.0  0.01503  0.03  ...  2022-05-29T22:09:10.832Z   \n",
       "8995   NaN    NaN      NaN  1.11  ...  2022-06-12T03:11:38.040Z   \n",
       "8996   NaN    NaN      NaN  0.54  ...  2022-05-28T22:52:29.667Z   \n",
       "8997  26.0  185.0      NaN  0.17  ...  2022-05-28T22:44:36.050Z   \n",
       "\n",
       "                                      place        type horizontalError  \\\n",
       "0               4km ESE of Lake Henshaw, CA  earthquake            0.26   \n",
       "1              14 km SSE of Sunnyside, Utah  earthquake            0.90   \n",
       "2               3km ESE of Lake Henshaw, CA  earthquake            0.45   \n",
       "3             61 km WSW of Nanwalek, Alaska  earthquake             NaN   \n",
       "4                         3km W of Cobb, CA  earthquake            0.42   \n",
       "...                                     ...         ...             ...   \n",
       "8993          31 km NNE of Whittier, Alaska  earthquake             NaN   \n",
       "8994             13km WNW of Toms Place, CA  earthquake            0.37   \n",
       "8995          103 km SSE of Ugashik, Alaska  earthquake             NaN   \n",
       "8996  19 km WSW of Point Possession, Alaska  earthquake             NaN   \n",
       "8997        14 km SE of Fern Forest, Hawaii  earthquake            0.58   \n",
       "\n",
       "     depthError  magError  magNst     status  locationSource magSource  \n",
       "0          0.61     0.156    22.0  automatic              ci        ci  \n",
       "1          0.25     0.193     6.0   reviewed              uu        uu  \n",
       "2          0.73     0.208    11.0  automatic              ci        ci  \n",
       "3          0.70       NaN     NaN  automatic              ak        ak  \n",
       "4          0.74     0.150     2.0  automatic              nc        nc  \n",
       "...         ...       ...     ...        ...             ...       ...  \n",
       "8993       0.30       NaN     NaN  automatic              ak        ak  \n",
       "8994       0.31     0.097    14.0   reviewed              nc        nc  \n",
       "8995       0.60       NaN     NaN  automatic              ak        ak  \n",
       "8996       0.30       NaN     NaN  automatic              ak        ak  \n",
       "8997       0.42     3.560     6.0  automatic              hv        hv  \n",
       "\n",
       "[8998 rows x 22 columns]"
      ]
     },
     "execution_count": 18,
     "metadata": {},
     "output_type": "execute_result"
    }
   ],
   "source": [
    "page_url = \"https://earthquake.usgs.gov/earthquakes/feed/v1.0/summary/all_month.csv\"\n",
    "\n",
    "df = pd.read_csv(page_url)\n",
    "df"
   ]
  },
  {
   "cell_type": "code",
   "execution_count": 19,
   "metadata": {},
   "outputs": [
    {
     "data": {
      "text/plain": [
       "8998"
      ]
     },
     "execution_count": 19,
     "metadata": {},
     "output_type": "execute_result"
    }
   ],
   "source": [
    "#creates/replaces database to add new data to json file\n",
    "#=============\n",
    "#PostgreSQL\n",
    "df.to_sql('earthquake_update', engine, if_exists='replace', index = False)\n",
    "#=============\n",
    "#SQLite\n",
    "cur = conn.cursor()\n",
    "df.to_sql('earthquake_update', conn, if_exists='replace', index=False)"
   ]
  },
  {
   "cell_type": "markdown",
   "metadata": {},
   "source": [
    "Load from database to update with new rows and remove duplicate rows"
   ]
  },
  {
   "cell_type": "code",
   "execution_count": 23,
   "metadata": {},
   "outputs": [
    {
     "data": {
      "text/plain": [
       "(64462, 22)"
      ]
     },
     "execution_count": 23,
     "metadata": {},
     "output_type": "execute_result"
    }
   ],
   "source": [
    "#Dataframe from postgresql\n",
    "model_df = pd.read_sql_table(\n",
    "    \"earthquake_raw\",\n",
    "    con=engine\n",
    ")\n",
    "model_df.shape"
   ]
  },
  {
   "cell_type": "code",
   "execution_count": 24,
   "metadata": {},
   "outputs": [
    {
     "data": {
      "text/plain": [
       "(64207, 22)"
      ]
     },
     "execution_count": 24,
     "metadata": {},
     "output_type": "execute_result"
    }
   ],
   "source": [
    "#dataframe from SQLite\n",
    "model_df2 = pd.read_sql_query(\"SELECT * FROM earthquake_raw\", conn)\n",
    "model_df2.shape"
   ]
  },
  {
   "cell_type": "code",
   "execution_count": 30,
   "metadata": {},
   "outputs": [
    {
     "data": {
      "text/plain": [
       "(73460, 22)"
      ]
     },
     "execution_count": 30,
     "metadata": {},
     "output_type": "execute_result"
    }
   ],
   "source": [
    "#concatenate new data df with data read from postgres db table\n",
    "model_df = pd.concat([model_df,df], verify_integrity=True, ignore_index=True)\n",
    "model_df.shape"
   ]
  },
  {
   "cell_type": "code",
   "execution_count": 32,
   "metadata": {},
   "outputs": [
    {
     "data": {
      "text/plain": [
       "(73205, 22)"
      ]
     },
     "execution_count": 32,
     "metadata": {},
     "output_type": "execute_result"
    }
   ],
   "source": [
    "#concatenate new data df with data read from sqlite db table\n",
    "model_df2 = pd.concat([model_df2,df], verify_integrity=True, ignore_index=True)\n",
    "model_df2.shape"
   ]
  },
  {
   "cell_type": "code",
   "execution_count": 31,
   "metadata": {},
   "outputs": [
    {
     "name": "stdout",
     "output_type": "stream",
     "text": [
      "True\n"
     ]
    }
   ],
   "source": [
    "#check for duplicates in postgres data\n",
    "boolean = model_df.duplicated(subset=['id']).any()\n",
    "print(boolean)"
   ]
  },
  {
   "cell_type": "code",
   "execution_count": 33,
   "metadata": {},
   "outputs": [
    {
     "name": "stdout",
     "output_type": "stream",
     "text": [
      "True\n"
     ]
    }
   ],
   "source": [
    "#check for duplicates in sqlite data\n",
    "boolean = model_df2.duplicated(subset=['id']).any()\n",
    "print(boolean)"
   ]
  },
  {
   "cell_type": "code",
   "execution_count": 34,
   "metadata": {},
   "outputs": [
    {
     "name": "stdout",
     "output_type": "stream",
     "text": [
      "                           time  latitude  longitude   depth  mag magType  \\\n",
      "0      2022-01-06T01:42:39.855Z   37.3840  -117.1075    1.10  1.3      ml   \n",
      "1      2022-01-06T01:31:33.698Z   38.1810  -117.8180    7.30  1.4      ml   \n",
      "2      2022-01-06T01:24:20.083Z   61.3407  -149.8852   30.00  1.5      ml   \n",
      "3      2022-01-06T01:15:15.851Z   62.8703  -150.7625  111.30  2.1      ml   \n",
      "4      2022-01-06T01:10:44.629Z   64.0145  -148.7657    1.90  1.5      ml   \n",
      "...                         ...       ...        ...     ...  ...     ...   \n",
      "71569  2022-06-04T15:26:13.439Z  -30.2315  -177.8443   39.37  4.6      mb   \n",
      "71581  2022-06-04T14:02:17.078Z  -33.6929  -178.7322   10.00  4.4      mb   \n",
      "71584  2022-06-04T13:51:07.024Z  -21.5817  -176.0672  144.23  4.6      mb   \n",
      "71593  2022-06-04T13:04:18.850Z  -56.2831   -27.0051   65.64  4.8      mb   \n",
      "73067  2022-05-30T10:46:28.887Z   22.2434   -70.3805   10.00  4.0      mb   \n",
      "\n",
      "        nst     gap   dmin     rms  ...                   updated  \\\n",
      "0       8.0  149.46  0.875  0.2175  ...  2022-01-06T01:47:19.317Z   \n",
      "1      11.0  154.64  0.119  0.1017  ...  2022-01-06T01:47:40.245Z   \n",
      "2       NaN     NaN    NaN  0.7500  ...  2022-01-06T01:29:22.015Z   \n",
      "3       NaN     NaN    NaN  0.3200  ...  2022-01-06T01:29:21.875Z   \n",
      "4       NaN     NaN    NaN  0.7200  ...  2022-01-06T01:15:56.292Z   \n",
      "...     ...     ...    ...     ...  ...                       ...   \n",
      "71569   NaN  137.00  0.968  1.2200  ...  2022-06-27T18:33:42.040Z   \n",
      "71581   NaN  185.00  4.552  0.8700  ...  2022-06-27T18:24:02.040Z   \n",
      "71584   NaN   88.00  8.653  0.9700  ...  2022-06-27T18:17:01.040Z   \n",
      "71593   NaN   92.00  5.777  0.6200  ...  2022-06-27T18:11:17.040Z   \n",
      "73067   NaN  123.00  1.009  0.8800  ...  2022-06-27T11:50:25.040Z   \n",
      "\n",
      "                                     place        type horizontalError  \\\n",
      "0           37 km SSE of Goldfield, Nevada  earthquake             NaN   \n",
      "1                 34 km SE of Mina, Nevada  earthquake             NaN   \n",
      "2      5 km ESE of Point MacKenzie, Alaska  earthquake             NaN   \n",
      "3           41 km N of Petersville, Alaska  earthquake             NaN   \n",
      "4                 17 km E of Ferry, Alaska  earthquake             NaN   \n",
      "...                                    ...         ...             ...   \n",
      "71569        Kermadec Islands, New Zealand  earthquake            12.8   \n",
      "71581        south of the Kermadec Islands  earthquake             9.2   \n",
      "71584      100 km WSW of Haveluloto, Tonga  earthquake            14.0   \n",
      "71593        South Sandwich Islands region  earthquake            11.0   \n",
      "73067   266 km E of Abraham’s Bay, Bahamas  earthquake             3.3   \n",
      "\n",
      "      depthError  magError  magNst     status  locationSource magSource  \n",
      "0           39.1     0.290     4.0  automatic              nn        nn  \n",
      "1            2.0     0.460     5.0  automatic              nn        nn  \n",
      "2            0.2       NaN     NaN  automatic              ak        ak  \n",
      "3            0.8       NaN     NaN  automatic              ak        ak  \n",
      "4            0.6       NaN     NaN  automatic              ak        ak  \n",
      "...          ...       ...     ...        ...             ...       ...  \n",
      "71569        9.4     0.136    19.0   reviewed              us        us  \n",
      "71581        1.9     0.220     6.0   reviewed              us        us  \n",
      "71584        7.8     0.129    18.0   reviewed              us        us  \n",
      "71593        8.1     0.109    27.0   reviewed              us        us  \n",
      "73067        2.0     0.080    42.0   reviewed              us        us  \n",
      "\n",
      "[64583 rows x 22 columns]\n"
     ]
    }
   ],
   "source": [
    "#drop duplicates in postgres data\n",
    "model_df.drop_duplicates(subset=['id'], inplace=True)\n",
    "print(model_df)"
   ]
  },
  {
   "cell_type": "code",
   "execution_count": 35,
   "metadata": {},
   "outputs": [
    {
     "name": "stdout",
     "output_type": "stream",
     "text": [
      "                           time  latitude  longitude   depth  mag magType  \\\n",
      "0      2022-01-06T01:42:39.855Z   37.3840  -117.1075    1.10  1.3      ml   \n",
      "1      2022-01-06T01:31:33.698Z   38.1810  -117.8180    7.30  1.4      ml   \n",
      "2      2022-01-06T01:24:20.083Z   61.3407  -149.8852   30.00  1.5      ml   \n",
      "3      2022-01-06T01:15:15.851Z   62.8703  -150.7625  111.30  2.1      ml   \n",
      "4      2022-01-06T01:10:44.629Z   64.0145  -148.7657    1.90  1.5      ml   \n",
      "...                         ...       ...        ...     ...  ...     ...   \n",
      "71314  2022-06-04T15:26:13.439Z  -30.2315  -177.8443   39.37  4.6      mb   \n",
      "71326  2022-06-04T14:02:17.078Z  -33.6929  -178.7322   10.00  4.4      mb   \n",
      "71329  2022-06-04T13:51:07.024Z  -21.5817  -176.0672  144.23  4.6      mb   \n",
      "71338  2022-06-04T13:04:18.850Z  -56.2831   -27.0051   65.64  4.8      mb   \n",
      "72812  2022-05-30T10:46:28.887Z   22.2434   -70.3805   10.00  4.0      mb   \n",
      "\n",
      "        nst     gap   dmin     rms  ...                   updated  \\\n",
      "0       8.0  149.46  0.875  0.2175  ...  2022-01-06T01:47:19.317Z   \n",
      "1      11.0  154.64  0.119  0.1017  ...  2022-01-06T01:47:40.245Z   \n",
      "2       NaN     NaN    NaN  0.7500  ...  2022-01-06T01:29:22.015Z   \n",
      "3       NaN     NaN    NaN  0.3200  ...  2022-01-06T01:29:21.875Z   \n",
      "4       NaN     NaN    NaN  0.7200  ...  2022-01-06T01:15:56.292Z   \n",
      "...     ...     ...    ...     ...  ...                       ...   \n",
      "71314   NaN  137.00  0.968  1.2200  ...  2022-06-27T18:33:42.040Z   \n",
      "71326   NaN  185.00  4.552  0.8700  ...  2022-06-27T18:24:02.040Z   \n",
      "71329   NaN   88.00  8.653  0.9700  ...  2022-06-27T18:17:01.040Z   \n",
      "71338   NaN   92.00  5.777  0.6200  ...  2022-06-27T18:11:17.040Z   \n",
      "72812   NaN  123.00  1.009  0.8800  ...  2022-06-27T11:50:25.040Z   \n",
      "\n",
      "                                     place        type horizontalError  \\\n",
      "0           37 km SSE of Goldfield, Nevada  earthquake             NaN   \n",
      "1                 34 km SE of Mina, Nevada  earthquake             NaN   \n",
      "2      5 km ESE of Point MacKenzie, Alaska  earthquake             NaN   \n",
      "3           41 km N of Petersville, Alaska  earthquake             NaN   \n",
      "4                 17 km E of Ferry, Alaska  earthquake             NaN   \n",
      "...                                    ...         ...             ...   \n",
      "71314        Kermadec Islands, New Zealand  earthquake            12.8   \n",
      "71326        south of the Kermadec Islands  earthquake             9.2   \n",
      "71329      100 km WSW of Haveluloto, Tonga  earthquake            14.0   \n",
      "71338        South Sandwich Islands region  earthquake            11.0   \n",
      "72812   266 km E of Abraham’s Bay, Bahamas  earthquake             3.3   \n",
      "\n",
      "      depthError  magError  magNst     status  locationSource magSource  \n",
      "0           39.1     0.290     4.0  automatic              nn        nn  \n",
      "1            2.0     0.460     5.0  automatic              nn        nn  \n",
      "2            0.2       NaN     NaN  automatic              ak        ak  \n",
      "3            0.8       NaN     NaN  automatic              ak        ak  \n",
      "4            0.6       NaN     NaN  automatic              ak        ak  \n",
      "...          ...       ...     ...        ...             ...       ...  \n",
      "71314        9.4     0.136    19.0   reviewed              us        us  \n",
      "71326        1.9     0.220     6.0   reviewed              us        us  \n",
      "71329        7.8     0.129    18.0   reviewed              us        us  \n",
      "71338        8.1     0.109    27.0   reviewed              us        us  \n",
      "72812        2.0     0.080    42.0   reviewed              us        us  \n",
      "\n",
      "[64583 rows x 22 columns]\n"
     ]
    }
   ],
   "source": [
    "#drop duplicates in sqlite data\n",
    "model_df2.drop_duplicates(subset=['id'], inplace=True)\n",
    "print(model_df2)"
   ]
  },
  {
   "cell_type": "code",
   "execution_count": 36,
   "metadata": {},
   "outputs": [
    {
     "data": {
      "text/plain": [
       "583"
      ]
     },
     "execution_count": 36,
     "metadata": {},
     "output_type": "execute_result"
    }
   ],
   "source": [
    "#replace the table in postgres with one without duplicates\n",
    "model_df.to_sql('earthquake_raw', engine, if_exists='replace', index = False)"
   ]
  },
  {
   "cell_type": "code",
   "execution_count": 37,
   "metadata": {},
   "outputs": [
    {
     "data": {
      "text/plain": [
       "64583"
      ]
     },
     "execution_count": 37,
     "metadata": {},
     "output_type": "execute_result"
    }
   ],
   "source": [
    "#replace the table in sqlite with one without duplicates\n",
    "model_df2.to_sql('earthquake_raw', conn, if_exists='replace', index = False)"
   ]
  },
  {
   "cell_type": "code",
   "execution_count": null,
   "metadata": {},
   "outputs": [],
   "source": [
    "#copy data as csv as backup method\n",
    "model_df.to_csv(\"../Database/csv/earthquake_raw.csv\",index=False)"
   ]
  },
  {
   "cell_type": "code",
   "execution_count": null,
   "metadata": {},
   "outputs": [],
   "source": [
    "# Close connection to SQLite database\n",
    "conn.close()\n",
    "connection.close()"
   ]
  }
 ],
 "metadata": {
  "kernelspec": {
   "display_name": "Python 3.9.12 ('equake_env')",
   "language": "python",
   "name": "python3"
  },
  "language_info": {
   "codemirror_mode": {
    "name": "ipython",
    "version": 3
   },
   "file_extension": ".py",
   "mimetype": "text/x-python",
   "name": "python",
   "nbconvert_exporter": "python",
   "pygments_lexer": "ipython3",
   "version": "3.9.12"
  },
  "orig_nbformat": 4,
  "vscode": {
   "interpreter": {
    "hash": "44bf637a60f8aea915a9ffaff3c5af9bf72e4462be04670e777c62c71dc28425"
   }
  }
 },
 "nbformat": 4,
 "nbformat_minor": 2
}
