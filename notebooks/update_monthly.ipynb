{
 "cells": [
  {
   "cell_type": "code",
   "execution_count": 1,
   "metadata": {},
   "outputs": [],
   "source": [
    "#env: equake_env (Python 3.9)\n",
    "import pandas as pd\n",
    "import sqlite3\n",
    "import datetime\n",
    "import sqlalchemy\n",
    "from sqlalchemy.ext.automap import automap_base\n",
    "from sqlalchemy.orm import Session\n",
    "from sqlalchemy import create_engine, inspect, func\n",
    "\n",
    "from sqlalchemy import create_engine"
   ]
  },
  {
   "cell_type": "code",
   "execution_count": 2,
   "metadata": {},
   "outputs": [
    {
     "name": "stdout",
     "output_type": "stream",
     "text": [
      "Connected to database...\n"
     ]
    }
   ],
   "source": [
    "#connection to a PostgreSQL local database\n",
    "# ===========================================\n",
    "\n",
    "# user_name_var = input('What is the username of your database? ')\n",
    "host_var = input('What is the host address of your database?')\n",
    "pw = input(\"Enter the database password: \")\n",
    "# db_name = input(\"Enter the name of the database: \")\n",
    "\n",
    "string_output = \"postgresql://postgres\"+':'+pw+'@'+host_var+\":5432\"+'/earthquake_db'\n",
    "engine = create_engine(string_output)\n",
    "connection = engine.connect()\n",
    "print(\"Connected to database...\")"
   ]
  },
  {
   "cell_type": "code",
   "execution_count": 3,
   "metadata": {},
   "outputs": [],
   "source": [
    "#create and connect to a sqlite3 db\n",
    "path = \"../Database/db/earthquake_db\"\n",
    "conn = sqlite3.connect(path)"
   ]
  },
  {
   "cell_type": "markdown",
   "metadata": {},
   "source": [
    "Adding 1 month of data"
   ]
  },
  {
   "cell_type": "code",
   "execution_count": 4,
   "metadata": {},
   "outputs": [
    {
     "data": {
      "text/html": [
       "<div>\n",
       "<style scoped>\n",
       "    .dataframe tbody tr th:only-of-type {\n",
       "        vertical-align: middle;\n",
       "    }\n",
       "\n",
       "    .dataframe tbody tr th {\n",
       "        vertical-align: top;\n",
       "    }\n",
       "\n",
       "    .dataframe thead th {\n",
       "        text-align: right;\n",
       "    }\n",
       "</style>\n",
       "<table border=\"1\" class=\"dataframe\">\n",
       "  <thead>\n",
       "    <tr style=\"text-align: right;\">\n",
       "      <th></th>\n",
       "      <th>time</th>\n",
       "      <th>latitude</th>\n",
       "      <th>longitude</th>\n",
       "      <th>depth</th>\n",
       "      <th>mag</th>\n",
       "      <th>magType</th>\n",
       "      <th>nst</th>\n",
       "      <th>gap</th>\n",
       "      <th>dmin</th>\n",
       "      <th>rms</th>\n",
       "      <th>...</th>\n",
       "      <th>updated</th>\n",
       "      <th>place</th>\n",
       "      <th>type</th>\n",
       "      <th>horizontalError</th>\n",
       "      <th>depthError</th>\n",
       "      <th>magError</th>\n",
       "      <th>magNst</th>\n",
       "      <th>status</th>\n",
       "      <th>locationSource</th>\n",
       "      <th>magSource</th>\n",
       "    </tr>\n",
       "  </thead>\n",
       "  <tbody>\n",
       "    <tr>\n",
       "      <th>0</th>\n",
       "      <td>2022-06-28T18:11:21.860Z</td>\n",
       "      <td>33.512333</td>\n",
       "      <td>-116.548833</td>\n",
       "      <td>12.96</td>\n",
       "      <td>0.72</td>\n",
       "      <td>ml</td>\n",
       "      <td>31.0</td>\n",
       "      <td>43.0</td>\n",
       "      <td>0.047450</td>\n",
       "      <td>0.19</td>\n",
       "      <td>...</td>\n",
       "      <td>2022-06-28T18:15:04.334Z</td>\n",
       "      <td>12km ESE of Anza, CA</td>\n",
       "      <td>earthquake</td>\n",
       "      <td>0.29</td>\n",
       "      <td>0.52</td>\n",
       "      <td>0.11400</td>\n",
       "      <td>21.0</td>\n",
       "      <td>automatic</td>\n",
       "      <td>ci</td>\n",
       "      <td>ci</td>\n",
       "    </tr>\n",
       "    <tr>\n",
       "      <th>1</th>\n",
       "      <td>2022-06-28T18:11:14.790Z</td>\n",
       "      <td>33.188667</td>\n",
       "      <td>-116.002500</td>\n",
       "      <td>6.57</td>\n",
       "      <td>0.98</td>\n",
       "      <td>ml</td>\n",
       "      <td>24.0</td>\n",
       "      <td>72.0</td>\n",
       "      <td>0.025690</td>\n",
       "      <td>0.30</td>\n",
       "      <td>...</td>\n",
       "      <td>2022-06-28T18:14:53.782Z</td>\n",
       "      <td>13km SSW of Salton City, CA</td>\n",
       "      <td>earthquake</td>\n",
       "      <td>0.66</td>\n",
       "      <td>1.05</td>\n",
       "      <td>0.15900</td>\n",
       "      <td>16.0</td>\n",
       "      <td>automatic</td>\n",
       "      <td>ci</td>\n",
       "      <td>ci</td>\n",
       "    </tr>\n",
       "    <tr>\n",
       "      <th>2</th>\n",
       "      <td>2022-06-28T17:39:47.560Z</td>\n",
       "      <td>38.825333</td>\n",
       "      <td>-122.798668</td>\n",
       "      <td>2.96</td>\n",
       "      <td>0.46</td>\n",
       "      <td>md</td>\n",
       "      <td>9.0</td>\n",
       "      <td>179.0</td>\n",
       "      <td>0.009117</td>\n",
       "      <td>0.01</td>\n",
       "      <td>...</td>\n",
       "      <td>2022-06-28T18:21:16.894Z</td>\n",
       "      <td>6km NW of The Geysers, CA</td>\n",
       "      <td>earthquake</td>\n",
       "      <td>0.55</td>\n",
       "      <td>0.73</td>\n",
       "      <td>0.39000</td>\n",
       "      <td>2.0</td>\n",
       "      <td>automatic</td>\n",
       "      <td>nc</td>\n",
       "      <td>nc</td>\n",
       "    </tr>\n",
       "    <tr>\n",
       "      <th>3</th>\n",
       "      <td>2022-06-28T17:36:15.411Z</td>\n",
       "      <td>62.017600</td>\n",
       "      <td>-151.067700</td>\n",
       "      <td>82.60</td>\n",
       "      <td>1.90</td>\n",
       "      <td>ml</td>\n",
       "      <td>NaN</td>\n",
       "      <td>NaN</td>\n",
       "      <td>NaN</td>\n",
       "      <td>0.49</td>\n",
       "      <td>...</td>\n",
       "      <td>2022-06-28T17:38:45.435Z</td>\n",
       "      <td>17 km E of Skwentna, Alaska</td>\n",
       "      <td>earthquake</td>\n",
       "      <td>NaN</td>\n",
       "      <td>1.00</td>\n",
       "      <td>NaN</td>\n",
       "      <td>NaN</td>\n",
       "      <td>automatic</td>\n",
       "      <td>ak</td>\n",
       "      <td>ak</td>\n",
       "    </tr>\n",
       "    <tr>\n",
       "      <th>4</th>\n",
       "      <td>2022-06-28T17:27:11.303Z</td>\n",
       "      <td>60.605800</td>\n",
       "      <td>-147.770000</td>\n",
       "      <td>18.40</td>\n",
       "      <td>2.50</td>\n",
       "      <td>ml</td>\n",
       "      <td>NaN</td>\n",
       "      <td>NaN</td>\n",
       "      <td>NaN</td>\n",
       "      <td>0.51</td>\n",
       "      <td>...</td>\n",
       "      <td>2022-06-28T18:18:54.040Z</td>\n",
       "      <td>53 km ESE of Whittier, Alaska</td>\n",
       "      <td>earthquake</td>\n",
       "      <td>NaN</td>\n",
       "      <td>0.20</td>\n",
       "      <td>NaN</td>\n",
       "      <td>NaN</td>\n",
       "      <td>automatic</td>\n",
       "      <td>ak</td>\n",
       "      <td>ak</td>\n",
       "    </tr>\n",
       "    <tr>\n",
       "      <th>...</th>\n",
       "      <td>...</td>\n",
       "      <td>...</td>\n",
       "      <td>...</td>\n",
       "      <td>...</td>\n",
       "      <td>...</td>\n",
       "      <td>...</td>\n",
       "      <td>...</td>\n",
       "      <td>...</td>\n",
       "      <td>...</td>\n",
       "      <td>...</td>\n",
       "      <td>...</td>\n",
       "      <td>...</td>\n",
       "      <td>...</td>\n",
       "      <td>...</td>\n",
       "      <td>...</td>\n",
       "      <td>...</td>\n",
       "      <td>...</td>\n",
       "      <td>...</td>\n",
       "      <td>...</td>\n",
       "      <td>...</td>\n",
       "      <td>...</td>\n",
       "    </tr>\n",
       "    <tr>\n",
       "      <th>9071</th>\n",
       "      <td>2022-05-29T18:46:07.881Z</td>\n",
       "      <td>62.765700</td>\n",
       "      <td>-149.147900</td>\n",
       "      <td>64.00</td>\n",
       "      <td>1.30</td>\n",
       "      <td>ml</td>\n",
       "      <td>NaN</td>\n",
       "      <td>NaN</td>\n",
       "      <td>NaN</td>\n",
       "      <td>1.14</td>\n",
       "      <td>...</td>\n",
       "      <td>2022-05-29T18:47:50.375Z</td>\n",
       "      <td>60 km NE of Chase, Alaska</td>\n",
       "      <td>earthquake</td>\n",
       "      <td>NaN</td>\n",
       "      <td>0.60</td>\n",
       "      <td>NaN</td>\n",
       "      <td>NaN</td>\n",
       "      <td>automatic</td>\n",
       "      <td>ak</td>\n",
       "      <td>ak</td>\n",
       "    </tr>\n",
       "    <tr>\n",
       "      <th>9072</th>\n",
       "      <td>2022-05-29T18:45:49.520Z</td>\n",
       "      <td>35.520167</td>\n",
       "      <td>-117.433000</td>\n",
       "      <td>5.65</td>\n",
       "      <td>1.77</td>\n",
       "      <td>ml</td>\n",
       "      <td>28.0</td>\n",
       "      <td>62.0</td>\n",
       "      <td>0.056060</td>\n",
       "      <td>0.14</td>\n",
       "      <td>...</td>\n",
       "      <td>2022-06-01T15:14:27.920Z</td>\n",
       "      <td>24km NE of Johannesburg, CA</td>\n",
       "      <td>earthquake</td>\n",
       "      <td>0.19</td>\n",
       "      <td>0.42</td>\n",
       "      <td>0.07800</td>\n",
       "      <td>12.0</td>\n",
       "      <td>reviewed</td>\n",
       "      <td>ci</td>\n",
       "      <td>ci</td>\n",
       "    </tr>\n",
       "    <tr>\n",
       "      <th>9073</th>\n",
       "      <td>2022-05-29T18:39:05.860Z</td>\n",
       "      <td>39.259667</td>\n",
       "      <td>-123.484667</td>\n",
       "      <td>8.82</td>\n",
       "      <td>1.76</td>\n",
       "      <td>md</td>\n",
       "      <td>21.0</td>\n",
       "      <td>58.0</td>\n",
       "      <td>0.127000</td>\n",
       "      <td>0.09</td>\n",
       "      <td>...</td>\n",
       "      <td>2022-06-02T01:34:11.951Z</td>\n",
       "      <td>20km SSW of Willits, CA</td>\n",
       "      <td>earthquake</td>\n",
       "      <td>0.18</td>\n",
       "      <td>0.60</td>\n",
       "      <td>0.12300</td>\n",
       "      <td>16.0</td>\n",
       "      <td>reviewed</td>\n",
       "      <td>nc</td>\n",
       "      <td>nc</td>\n",
       "    </tr>\n",
       "    <tr>\n",
       "      <th>9074</th>\n",
       "      <td>2022-05-29T18:35:31.810Z</td>\n",
       "      <td>38.835000</td>\n",
       "      <td>-122.810500</td>\n",
       "      <td>2.13</td>\n",
       "      <td>1.18</td>\n",
       "      <td>md</td>\n",
       "      <td>42.0</td>\n",
       "      <td>38.0</td>\n",
       "      <td>0.011590</td>\n",
       "      <td>0.03</td>\n",
       "      <td>...</td>\n",
       "      <td>2022-06-09T01:08:14.796Z</td>\n",
       "      <td>8km W of Cobb, CA</td>\n",
       "      <td>earthquake</td>\n",
       "      <td>0.14</td>\n",
       "      <td>0.27</td>\n",
       "      <td>0.07800</td>\n",
       "      <td>12.0</td>\n",
       "      <td>reviewed</td>\n",
       "      <td>nc</td>\n",
       "      <td>nc</td>\n",
       "    </tr>\n",
       "    <tr>\n",
       "      <th>9075</th>\n",
       "      <td>2022-05-29T18:34:55.270Z</td>\n",
       "      <td>18.033167</td>\n",
       "      <td>-66.787167</td>\n",
       "      <td>18.87</td>\n",
       "      <td>2.11</td>\n",
       "      <td>md</td>\n",
       "      <td>8.0</td>\n",
       "      <td>151.0</td>\n",
       "      <td>NaN</td>\n",
       "      <td>0.14</td>\n",
       "      <td>...</td>\n",
       "      <td>2022-05-29T19:21:03.510Z</td>\n",
       "      <td>Puerto Rico region</td>\n",
       "      <td>earthquake</td>\n",
       "      <td>0.56</td>\n",
       "      <td>1.21</td>\n",
       "      <td>0.01744</td>\n",
       "      <td>4.0</td>\n",
       "      <td>reviewed</td>\n",
       "      <td>pr</td>\n",
       "      <td>pr</td>\n",
       "    </tr>\n",
       "  </tbody>\n",
       "</table>\n",
       "<p>9076 rows × 22 columns</p>\n",
       "</div>"
      ],
      "text/plain": [
       "                          time   latitude   longitude  depth   mag magType  \\\n",
       "0     2022-06-28T18:11:21.860Z  33.512333 -116.548833  12.96  0.72      ml   \n",
       "1     2022-06-28T18:11:14.790Z  33.188667 -116.002500   6.57  0.98      ml   \n",
       "2     2022-06-28T17:39:47.560Z  38.825333 -122.798668   2.96  0.46      md   \n",
       "3     2022-06-28T17:36:15.411Z  62.017600 -151.067700  82.60  1.90      ml   \n",
       "4     2022-06-28T17:27:11.303Z  60.605800 -147.770000  18.40  2.50      ml   \n",
       "...                        ...        ...         ...    ...   ...     ...   \n",
       "9071  2022-05-29T18:46:07.881Z  62.765700 -149.147900  64.00  1.30      ml   \n",
       "9072  2022-05-29T18:45:49.520Z  35.520167 -117.433000   5.65  1.77      ml   \n",
       "9073  2022-05-29T18:39:05.860Z  39.259667 -123.484667   8.82  1.76      md   \n",
       "9074  2022-05-29T18:35:31.810Z  38.835000 -122.810500   2.13  1.18      md   \n",
       "9075  2022-05-29T18:34:55.270Z  18.033167  -66.787167  18.87  2.11      md   \n",
       "\n",
       "       nst    gap      dmin   rms  ...                   updated  \\\n",
       "0     31.0   43.0  0.047450  0.19  ...  2022-06-28T18:15:04.334Z   \n",
       "1     24.0   72.0  0.025690  0.30  ...  2022-06-28T18:14:53.782Z   \n",
       "2      9.0  179.0  0.009117  0.01  ...  2022-06-28T18:21:16.894Z   \n",
       "3      NaN    NaN       NaN  0.49  ...  2022-06-28T17:38:45.435Z   \n",
       "4      NaN    NaN       NaN  0.51  ...  2022-06-28T18:18:54.040Z   \n",
       "...    ...    ...       ...   ...  ...                       ...   \n",
       "9071   NaN    NaN       NaN  1.14  ...  2022-05-29T18:47:50.375Z   \n",
       "9072  28.0   62.0  0.056060  0.14  ...  2022-06-01T15:14:27.920Z   \n",
       "9073  21.0   58.0  0.127000  0.09  ...  2022-06-02T01:34:11.951Z   \n",
       "9074  42.0   38.0  0.011590  0.03  ...  2022-06-09T01:08:14.796Z   \n",
       "9075   8.0  151.0       NaN  0.14  ...  2022-05-29T19:21:03.510Z   \n",
       "\n",
       "                              place        type horizontalError depthError  \\\n",
       "0              12km ESE of Anza, CA  earthquake            0.29       0.52   \n",
       "1       13km SSW of Salton City, CA  earthquake            0.66       1.05   \n",
       "2         6km NW of The Geysers, CA  earthquake            0.55       0.73   \n",
       "3       17 km E of Skwentna, Alaska  earthquake             NaN       1.00   \n",
       "4     53 km ESE of Whittier, Alaska  earthquake             NaN       0.20   \n",
       "...                             ...         ...             ...        ...   \n",
       "9071      60 km NE of Chase, Alaska  earthquake             NaN       0.60   \n",
       "9072    24km NE of Johannesburg, CA  earthquake            0.19       0.42   \n",
       "9073        20km SSW of Willits, CA  earthquake            0.18       0.60   \n",
       "9074              8km W of Cobb, CA  earthquake            0.14       0.27   \n",
       "9075             Puerto Rico region  earthquake            0.56       1.21   \n",
       "\n",
       "      magError  magNst     status  locationSource magSource  \n",
       "0      0.11400    21.0  automatic              ci        ci  \n",
       "1      0.15900    16.0  automatic              ci        ci  \n",
       "2      0.39000     2.0  automatic              nc        nc  \n",
       "3          NaN     NaN  automatic              ak        ak  \n",
       "4          NaN     NaN  automatic              ak        ak  \n",
       "...        ...     ...        ...             ...       ...  \n",
       "9071       NaN     NaN  automatic              ak        ak  \n",
       "9072   0.07800    12.0   reviewed              ci        ci  \n",
       "9073   0.12300    16.0   reviewed              nc        nc  \n",
       "9074   0.07800    12.0   reviewed              nc        nc  \n",
       "9075   0.01744     4.0   reviewed              pr        pr  \n",
       "\n",
       "[9076 rows x 22 columns]"
      ]
     },
     "execution_count": 4,
     "metadata": {},
     "output_type": "execute_result"
    }
   ],
   "source": [
    "page_url = \"https://earthquake.usgs.gov/earthquakes/feed/v1.0/summary/all_month.csv\"\n",
    "\n",
    "df = pd.read_csv(page_url)\n",
    "df"
   ]
  },
  {
   "cell_type": "code",
   "execution_count": 5,
   "metadata": {},
   "outputs": [
    {
     "data": {
      "text/plain": [
       "9076"
      ]
     },
     "execution_count": 5,
     "metadata": {},
     "output_type": "execute_result"
    }
   ],
   "source": [
    "#creates/replaces database to add new data to json file\n",
    "#=============\n",
    "#PostgreSQL\n",
    "df.to_sql('earthquake_update', engine, if_exists='replace', index = False)\n",
    "#=============\n",
    "#SQLite\n",
    "cur = conn.cursor()\n",
    "df.to_sql('earthquake_update', conn, if_exists='replace', index=False)"
   ]
  },
  {
   "cell_type": "markdown",
   "metadata": {},
   "source": [
    "Load from database to update with new rows and remove duplicate rows"
   ]
  },
  {
   "cell_type": "code",
   "execution_count": 6,
   "metadata": {},
   "outputs": [
    {
     "data": {
      "text/plain": [
       "(64883, 22)"
      ]
     },
     "execution_count": 6,
     "metadata": {},
     "output_type": "execute_result"
    }
   ],
   "source": [
    "#Dataframe from postgresql\n",
    "model_df = pd.read_sql_table(\n",
    "    \"earthquake_raw\",\n",
    "    con=engine\n",
    ")\n",
    "model_df.shape"
   ]
  },
  {
   "cell_type": "code",
   "execution_count": 7,
   "metadata": {},
   "outputs": [
    {
     "data": {
      "text/plain": [
       "(64883, 22)"
      ]
     },
     "execution_count": 7,
     "metadata": {},
     "output_type": "execute_result"
    }
   ],
   "source": [
    "#dataframe from SQLite\n",
    "model_df2 = pd.read_sql_query(\"SELECT * FROM earthquake_raw\", conn)\n",
    "model_df2.shape"
   ]
  },
  {
   "cell_type": "code",
   "execution_count": 8,
   "metadata": {},
   "outputs": [
    {
     "data": {
      "text/plain": [
       "(73959, 22)"
      ]
     },
     "execution_count": 8,
     "metadata": {},
     "output_type": "execute_result"
    }
   ],
   "source": [
    "#concatenate new data df with data read from postgres db table\n",
    "model_df = pd.concat([model_df,df], verify_integrity=True, ignore_index=True)\n",
    "model_df.shape"
   ]
  },
  {
   "cell_type": "code",
   "execution_count": 9,
   "metadata": {},
   "outputs": [
    {
     "data": {
      "text/plain": [
       "(73959, 22)"
      ]
     },
     "execution_count": 9,
     "metadata": {},
     "output_type": "execute_result"
    }
   ],
   "source": [
    "#concatenate new data df with data read from sqlite db table\n",
    "model_df2 = pd.concat([model_df2,df], verify_integrity=True, ignore_index=True)\n",
    "model_df2.shape"
   ]
  },
  {
   "cell_type": "code",
   "execution_count": 10,
   "metadata": {},
   "outputs": [
    {
     "name": "stdout",
     "output_type": "stream",
     "text": [
      "True\n"
     ]
    }
   ],
   "source": [
    "#check for duplicates in postgres data\n",
    "boolean = model_df.duplicated(subset=['id']).any()\n",
    "print(boolean)"
   ]
  },
  {
   "cell_type": "code",
   "execution_count": 11,
   "metadata": {},
   "outputs": [
    {
     "name": "stdout",
     "output_type": "stream",
     "text": [
      "True\n"
     ]
    }
   ],
   "source": [
    "#check for duplicates in sqlite data\n",
    "boolean = model_df2.duplicated(subset=['id']).any()\n",
    "print(boolean)"
   ]
  },
  {
   "cell_type": "code",
   "execution_count": 12,
   "metadata": {},
   "outputs": [
    {
     "name": "stdout",
     "output_type": "stream",
     "text": [
      "                           time   latitude   longitude   depth   mag magType  \\\n",
      "0      2022-01-06T01:42:39.855Z  37.384000 -117.107500    1.10  1.30      ml   \n",
      "1      2022-01-06T01:31:33.698Z  38.181000 -117.818000    7.30  1.40      ml   \n",
      "2      2022-01-06T01:24:20.083Z  61.340700 -149.885200   30.00  1.50      ml   \n",
      "3      2022-01-06T01:15:15.851Z  62.870300 -150.762500  111.30  2.10      ml   \n",
      "4      2022-01-06T01:10:44.629Z  64.014500 -148.765700    1.90  1.50      ml   \n",
      "...                         ...        ...         ...     ...   ...     ...   \n",
      "65160  2022-06-27T18:58:42.890Z  32.676333 -115.442833   16.13  1.12      ml   \n",
      "65378  2022-06-26T23:55:51.750Z  35.989333 -117.432333    2.80  0.76      ml   \n",
      "65546  2022-06-26T11:16:17.540Z  36.101500 -117.859833    2.55  0.76      ml   \n",
      "65635  2022-06-26T05:22:29.360Z  36.104000 -117.869500    3.19  0.78      ml   \n",
      "65764  2022-06-25T16:56:09.410Z  35.829167 -117.682667    8.17  0.63      ml   \n",
      "\n",
      "        nst     gap     dmin     rms  ...                   updated  \\\n",
      "0       8.0  149.46  0.87500  0.2175  ...  2022-01-06T01:47:19.317Z   \n",
      "1      11.0  154.64  0.11900  0.1017  ...  2022-01-06T01:47:40.245Z   \n",
      "2       NaN     NaN      NaN  0.7500  ...  2022-01-06T01:29:22.015Z   \n",
      "3       NaN     NaN      NaN  0.3200  ...  2022-01-06T01:29:21.875Z   \n",
      "4       NaN     NaN      NaN  0.7200  ...  2022-01-06T01:15:56.292Z   \n",
      "...     ...     ...      ...     ...  ...                       ...   \n",
      "65160  10.0  128.00  0.04463  0.2800  ...  2022-06-28T18:06:21.338Z   \n",
      "65378  18.0  153.00  0.14750  0.1300  ...  2022-06-28T18:04:14.508Z   \n",
      "65546  18.0   73.00  0.01654  0.1400  ...  2022-06-28T18:02:45.637Z   \n",
      "65635  11.0  184.00  0.01801  0.1100  ...  2022-06-28T17:58:44.614Z   \n",
      "65764  18.0   70.00  0.06991  0.0900  ...  2022-06-28T18:07:08.746Z   \n",
      "\n",
      "                                     place        type horizontalError  \\\n",
      "0           37 km SSE of Goldfield, Nevada  earthquake             NaN   \n",
      "1                 34 km SE of Mina, Nevada  earthquake             NaN   \n",
      "2      5 km ESE of Point MacKenzie, Alaska  earthquake             NaN   \n",
      "3           41 km N of Petersville, Alaska  earthquake             NaN   \n",
      "4                 17 km E of Ferry, Alaska  earthquake             NaN   \n",
      "...                                    ...         ...             ...   \n",
      "65160         4km NE of Mexicali, B.C., MX  earthquake            1.03   \n",
      "65378         25km N of Searles Valley, CA  earthquake            0.29   \n",
      "65546         10km NE of Coso Junction, CA  earthquake            0.22   \n",
      "65635         10km NE of Coso Junction, CA  earthquake            0.36   \n",
      "65764             23km N of Ridgecrest, CA  earthquake            0.17   \n",
      "\n",
      "      depthError  magError  magNst     status  locationSource magSource  \n",
      "0          39.10     0.290     4.0  automatic              nn        nn  \n",
      "1           2.00     0.460     5.0  automatic              nn        nn  \n",
      "2           0.20       NaN     NaN  automatic              ak        ak  \n",
      "3           0.80       NaN     NaN  automatic              ak        ak  \n",
      "4           0.60       NaN     NaN  automatic              ak        ak  \n",
      "...          ...       ...     ...        ...             ...       ...  \n",
      "65160       1.31     0.279    12.0   reviewed              ci        ci  \n",
      "65378       0.92     0.124     5.0   reviewed              ci        ci  \n",
      "65546       0.25     0.085     4.0   reviewed              ci        ci  \n",
      "65635       0.30     0.381     6.0   reviewed              ci        ci  \n",
      "65764       0.49     0.063     4.0   reviewed              ci        ci  \n",
      "\n",
      "[64891 rows x 22 columns]\n"
     ]
    }
   ],
   "source": [
    "#drop duplicates in postgres data\n",
    "model_df.drop_duplicates(subset=['id'], inplace=True)\n",
    "print(model_df)"
   ]
  },
  {
   "cell_type": "code",
   "execution_count": 13,
   "metadata": {},
   "outputs": [
    {
     "name": "stdout",
     "output_type": "stream",
     "text": [
      "                           time   latitude   longitude   depth   mag magType  \\\n",
      "0      2022-01-06T01:42:39.855Z  37.384000 -117.107500    1.10  1.30      ml   \n",
      "1      2022-01-06T01:31:33.698Z  38.181000 -117.818000    7.30  1.40      ml   \n",
      "2      2022-01-06T01:24:20.083Z  61.340700 -149.885200   30.00  1.50      ml   \n",
      "3      2022-01-06T01:15:15.851Z  62.870300 -150.762500  111.30  2.10      ml   \n",
      "4      2022-01-06T01:10:44.629Z  64.014500 -148.765700    1.90  1.50      ml   \n",
      "...                         ...        ...         ...     ...   ...     ...   \n",
      "65160  2022-06-27T18:58:42.890Z  32.676333 -115.442833   16.13  1.12      ml   \n",
      "65378  2022-06-26T23:55:51.750Z  35.989333 -117.432333    2.80  0.76      ml   \n",
      "65546  2022-06-26T11:16:17.540Z  36.101500 -117.859833    2.55  0.76      ml   \n",
      "65635  2022-06-26T05:22:29.360Z  36.104000 -117.869500    3.19  0.78      ml   \n",
      "65764  2022-06-25T16:56:09.410Z  35.829167 -117.682667    8.17  0.63      ml   \n",
      "\n",
      "        nst     gap     dmin     rms  ...                   updated  \\\n",
      "0       8.0  149.46  0.87500  0.2175  ...  2022-01-06T01:47:19.317Z   \n",
      "1      11.0  154.64  0.11900  0.1017  ...  2022-01-06T01:47:40.245Z   \n",
      "2       NaN     NaN      NaN  0.7500  ...  2022-01-06T01:29:22.015Z   \n",
      "3       NaN     NaN      NaN  0.3200  ...  2022-01-06T01:29:21.875Z   \n",
      "4       NaN     NaN      NaN  0.7200  ...  2022-01-06T01:15:56.292Z   \n",
      "...     ...     ...      ...     ...  ...                       ...   \n",
      "65160  10.0  128.00  0.04463  0.2800  ...  2022-06-28T18:06:21.338Z   \n",
      "65378  18.0  153.00  0.14750  0.1300  ...  2022-06-28T18:04:14.508Z   \n",
      "65546  18.0   73.00  0.01654  0.1400  ...  2022-06-28T18:02:45.637Z   \n",
      "65635  11.0  184.00  0.01801  0.1100  ...  2022-06-28T17:58:44.614Z   \n",
      "65764  18.0   70.00  0.06991  0.0900  ...  2022-06-28T18:07:08.746Z   \n",
      "\n",
      "                                     place        type horizontalError  \\\n",
      "0           37 km SSE of Goldfield, Nevada  earthquake             NaN   \n",
      "1                 34 km SE of Mina, Nevada  earthquake             NaN   \n",
      "2      5 km ESE of Point MacKenzie, Alaska  earthquake             NaN   \n",
      "3           41 km N of Petersville, Alaska  earthquake             NaN   \n",
      "4                 17 km E of Ferry, Alaska  earthquake             NaN   \n",
      "...                                    ...         ...             ...   \n",
      "65160         4km NE of Mexicali, B.C., MX  earthquake            1.03   \n",
      "65378         25km N of Searles Valley, CA  earthquake            0.29   \n",
      "65546         10km NE of Coso Junction, CA  earthquake            0.22   \n",
      "65635         10km NE of Coso Junction, CA  earthquake            0.36   \n",
      "65764             23km N of Ridgecrest, CA  earthquake            0.17   \n",
      "\n",
      "      depthError  magError  magNst     status  locationSource magSource  \n",
      "0          39.10     0.290     4.0  automatic              nn        nn  \n",
      "1           2.00     0.460     5.0  automatic              nn        nn  \n",
      "2           0.20       NaN     NaN  automatic              ak        ak  \n",
      "3           0.80       NaN     NaN  automatic              ak        ak  \n",
      "4           0.60       NaN     NaN  automatic              ak        ak  \n",
      "...          ...       ...     ...        ...             ...       ...  \n",
      "65160       1.31     0.279    12.0   reviewed              ci        ci  \n",
      "65378       0.92     0.124     5.0   reviewed              ci        ci  \n",
      "65546       0.25     0.085     4.0   reviewed              ci        ci  \n",
      "65635       0.30     0.381     6.0   reviewed              ci        ci  \n",
      "65764       0.49     0.063     4.0   reviewed              ci        ci  \n",
      "\n",
      "[64891 rows x 22 columns]\n"
     ]
    }
   ],
   "source": [
    "#drop duplicates in sqlite data\n",
    "model_df2.drop_duplicates(subset=['id'], inplace=True)\n",
    "print(model_df2)"
   ]
  },
  {
   "cell_type": "code",
   "execution_count": 14,
   "metadata": {},
   "outputs": [
    {
     "data": {
      "text/plain": [
       "891"
      ]
     },
     "execution_count": 14,
     "metadata": {},
     "output_type": "execute_result"
    }
   ],
   "source": [
    "#replace the table in postgres with one without duplicates\n",
    "model_df.to_sql('earthquake_raw', engine, if_exists='replace', index = False)"
   ]
  },
  {
   "cell_type": "code",
   "execution_count": 15,
   "metadata": {},
   "outputs": [
    {
     "data": {
      "text/plain": [
       "64891"
      ]
     },
     "execution_count": 15,
     "metadata": {},
     "output_type": "execute_result"
    }
   ],
   "source": [
    "#replace the table in sqlite with one without duplicates\n",
    "model_df2.to_sql('earthquake_raw', conn, if_exists='replace', index = False)"
   ]
  },
  {
   "cell_type": "code",
   "execution_count": 16,
   "metadata": {},
   "outputs": [],
   "source": [
    "#copy data as csv as backup method\n",
    "model_df.to_csv(\"../Database/csv/earthquake_raw.csv\",index=False)"
   ]
  },
  {
   "cell_type": "code",
   "execution_count": 17,
   "metadata": {},
   "outputs": [],
   "source": [
    "# Close connection to SQLite database\n",
    "conn.close()\n",
    "connection.close()"
   ]
  }
 ],
 "metadata": {
  "kernelspec": {
   "display_name": "Python 3.9.12 ('equake_env')",
   "language": "python",
   "name": "python3"
  },
  "language_info": {
   "codemirror_mode": {
    "name": "ipython",
    "version": 3
   },
   "file_extension": ".py",
   "mimetype": "text/x-python",
   "name": "python",
   "nbconvert_exporter": "python",
   "pygments_lexer": "ipython3",
   "version": "3.9.12"
  },
  "orig_nbformat": 4,
  "vscode": {
   "interpreter": {
    "hash": "44bf637a60f8aea915a9ffaff3c5af9bf72e4462be04670e777c62c71dc28425"
   }
  }
 },
 "nbformat": 4,
 "nbformat_minor": 2
}
